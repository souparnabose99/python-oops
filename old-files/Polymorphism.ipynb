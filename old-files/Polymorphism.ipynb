{
 "cells": [
  {
   "cell_type": "markdown",
   "metadata": {},
   "source": [
    "# Method Over-riding"
   ]
  },
  {
   "cell_type": "code",
   "execution_count": 14,
   "metadata": {},
   "outputs": [],
   "source": [
    "class Employee:\n",
    "    \n",
    "    def setNoOfWorkHrs(self):\n",
    "        self.noOfWorkHrs = 40\n",
    "        \n",
    "    def displayNoOfhrs(self):\n",
    "        print(self.noOfWorkHrs)\n",
    "        \n",
    "class Trainee(Employee):\n",
    "    \n",
    "    def setNoOfWorkHrs(self):\n",
    "        self.noOfWorkHrs = 45\n",
    "        \n",
    "    def resetNoOfWorkingHrs(self):\n",
    "        super().setNoOfWorkHrs()"
   ]
  },
  {
   "cell_type": "code",
   "execution_count": 15,
   "metadata": {},
   "outputs": [],
   "source": [
    "emp = Employee()"
   ]
  },
  {
   "cell_type": "code",
   "execution_count": 16,
   "metadata": {},
   "outputs": [
    {
     "name": "stdout",
     "output_type": "stream",
     "text": [
      "40\n"
     ]
    }
   ],
   "source": [
    "emp.setNoOfWorkHrs()\n",
    "emp.displayNoOfhrs()"
   ]
  },
  {
   "cell_type": "code",
   "execution_count": 17,
   "metadata": {},
   "outputs": [],
   "source": [
    "trainee = Trainee()\n",
    "trainee.setNoOfWorkHrs()"
   ]
  },
  {
   "cell_type": "code",
   "execution_count": 18,
   "metadata": {},
   "outputs": [
    {
     "name": "stdout",
     "output_type": "stream",
     "text": [
      "45\n"
     ]
    }
   ],
   "source": [
    "trainee.displayNoOfhrs()"
   ]
  },
  {
   "cell_type": "code",
   "execution_count": 19,
   "metadata": {},
   "outputs": [],
   "source": [
    "#Using super(). ->You can access any of your methods of your base class"
   ]
  },
  {
   "cell_type": "code",
   "execution_count": 20,
   "metadata": {},
   "outputs": [
    {
     "name": "stdout",
     "output_type": "stream",
     "text": [
      "40\n"
     ]
    }
   ],
   "source": [
    "trainee.resetNoOfWorkingHrs()\n",
    "trainee.displayNoOfhrs()"
   ]
  },
  {
   "cell_type": "markdown",
   "metadata": {},
   "source": [
    "# Method Over-riding:"
   ]
  },
  {
   "cell_type": "code",
   "execution_count": 23,
   "metadata": {},
   "outputs": [],
   "source": [
    "class A:\n",
    "    \n",
    "    def meth(self):\n",
    "        print('This belongs to class A')\n",
    "    pass\n",
    "        \n",
    "class B(A):\n",
    "    pass\n",
    "    \n",
    "class C(A):\n",
    "    pass\n",
    "    \n",
    "class D(B,C):\n",
    "    pass\n",
    "    "
   ]
  },
  {
   "cell_type": "code",
   "execution_count": 24,
   "metadata": {},
   "outputs": [
    {
     "name": "stdout",
     "output_type": "stream",
     "text": [
      "This belongs to class A\n"
     ]
    }
   ],
   "source": [
    "d = D()\n",
    "d.meth()"
   ]
  },
  {
   "cell_type": "code",
   "execution_count": 25,
   "metadata": {},
   "outputs": [],
   "source": [
    "class A:\n",
    "    \n",
    "    def meth(self):\n",
    "        print('This belongs to class A')\n",
    "    pass\n",
    "        \n",
    "class B(A):\n",
    "    def meth(self):\n",
    "        print('This belongs to class B')\n",
    "    \n",
    "class C(A):\n",
    "    pass\n",
    "    \n",
    "class D(B,C):\n",
    "    pass"
   ]
  },
  {
   "cell_type": "code",
   "execution_count": 26,
   "metadata": {},
   "outputs": [
    {
     "name": "stdout",
     "output_type": "stream",
     "text": [
      "This belongs to class B\n"
     ]
    }
   ],
   "source": [
    "d = D()\n",
    "d.meth()"
   ]
  },
  {
   "cell_type": "code",
   "execution_count": 27,
   "metadata": {},
   "outputs": [],
   "source": [
    "class A:\n",
    "    \n",
    "    def meth(self):\n",
    "        print('This belongs to class A')\n",
    "    pass\n",
    "        \n",
    "class B(A):\n",
    "    pass\n",
    "    \n",
    "class C(A):\n",
    "    def meth(self):\n",
    "        print('This belongs to class C')\n",
    "    \n",
    "class D(B,C):\n",
    "    pass"
   ]
  },
  {
   "cell_type": "code",
   "execution_count": 28,
   "metadata": {},
   "outputs": [
    {
     "name": "stdout",
     "output_type": "stream",
     "text": [
      "This belongs to class C\n"
     ]
    }
   ],
   "source": [
    "d = D()\n",
    "d.meth()"
   ]
  },
  {
   "cell_type": "code",
   "execution_count": 29,
   "metadata": {},
   "outputs": [],
   "source": [
    "class A:\n",
    "    \n",
    "    def meth(self):\n",
    "        print('This belongs to class A')\n",
    "    pass\n",
    "        \n",
    "class B(A):\n",
    "    def meth(self):\n",
    "        print('This belongs to class B')\n",
    "    \n",
    "class C(A):\n",
    "    def meth(self):\n",
    "        print('This belongs to class C')\n",
    "    \n",
    "class D(B,C):\n",
    "    pass"
   ]
  },
  {
   "cell_type": "code",
   "execution_count": 30,
   "metadata": {},
   "outputs": [
    {
     "name": "stdout",
     "output_type": "stream",
     "text": [
      "This belongs to class B\n"
     ]
    }
   ],
   "source": [
    "d = D()\n",
    "d.meth()"
   ]
  },
  {
   "cell_type": "markdown",
   "metadata": {},
   "source": [
    "# Operator Overloading:"
   ]
  },
  {
   "cell_type": "code",
   "execution_count": 47,
   "metadata": {},
   "outputs": [],
   "source": [
    "class Square:\n",
    "    \n",
    "    def __init__(self,side):\n",
    "        self.side = side\n",
    "        \n",
    "    def __add__(sq1,sq2):\n",
    "        return (4*sq1.side) + (4*sq2.side)"
   ]
  },
  {
   "cell_type": "code",
   "execution_count": 48,
   "metadata": {},
   "outputs": [],
   "source": [
    "squareOne = Square(5)\n",
    "squareTwo = Square(10)"
   ]
  },
  {
   "cell_type": "code",
   "execution_count": 49,
   "metadata": {},
   "outputs": [
    {
     "name": "stdout",
     "output_type": "stream",
     "text": [
      "Sum of sides of both squares =  60\n"
     ]
    }
   ],
   "source": [
    "print('Sum of sides of both squares = ', squareOne+squareTwo)\n",
    "#TypeError: unsupported operand type(s) for +: 'Square' and 'Square'\n",
    "#Special methods begin and end with 2 underscores"
   ]
  },
  {
   "cell_type": "markdown",
   "metadata": {},
   "source": [
    "# Abstract Base Class(ABC):"
   ]
  },
  {
   "cell_type": "markdown",
   "metadata": {},
   "source": [
    "ABC is ca class which does not have a definition on its own. It has abstarct methods which forces the implementation in its derived classes"
   ]
  },
  {
   "cell_type": "code",
   "execution_count": 51,
   "metadata": {},
   "outputs": [],
   "source": [
    "#ABCMeta is the class which has the properties of a ABC\n",
    "#@abstarctmethod decorator is used  for making an abstarct method\n",
    "#@abstractmethod and ABCMeta both belong the ABC module of python\n",
    "#ABC class wont allow to instantiate objects for that class, ABC can only be inherited in its derived classes "
   ]
  },
  {
   "cell_type": "code",
   "execution_count": 52,
   "metadata": {},
   "outputs": [],
   "source": [
    "from abc import ABCMeta, abstractmethod\n",
    "\n",
    "class Shape(metaclass = ABCMeta):\n",
    "    \n",
    "    @abstractmethod\n",
    "    def area(self):\n",
    "        return 0\n",
    "    \n",
    "class Square(Shape):\n",
    "    \n",
    "    side = 4\n",
    "    \n",
    "    def area(self):\n",
    "        print('Area is :', (self.side*self.side))\n",
    "        "
   ]
  },
  {
   "cell_type": "code",
   "execution_count": 53,
   "metadata": {},
   "outputs": [],
   "source": [
    "square = Square()"
   ]
  },
  {
   "cell_type": "code",
   "execution_count": 54,
   "metadata": {},
   "outputs": [
    {
     "name": "stdout",
     "output_type": "stream",
     "text": [
      "Area is : 16\n"
     ]
    }
   ],
   "source": [
    "square.area()"
   ]
  },
  {
   "cell_type": "code",
   "execution_count": 55,
   "metadata": {},
   "outputs": [],
   "source": [
    "class Square(Shape):\n",
    "    \n",
    "    side = 4\n",
    "    \n",
    "    def area(self):\n",
    "        print('Area is :', (self.side*self.side))\n",
    "        "
   ]
  },
  {
   "cell_type": "code",
   "execution_count": 56,
   "metadata": {},
   "outputs": [
    {
     "name": "stdout",
     "output_type": "stream",
     "text": [
      "Area is : 16\n"
     ]
    }
   ],
   "source": [
    "sq = Square()\n",
    "sq.area()"
   ]
  },
  {
   "cell_type": "code",
   "execution_count": null,
   "metadata": {},
   "outputs": [],
   "source": []
  }
 ],
 "metadata": {
  "kernelspec": {
   "display_name": "Python 3",
   "language": "python",
   "name": "python3"
  },
  "language_info": {
   "codemirror_mode": {
    "name": "ipython",
    "version": 3
   },
   "file_extension": ".py",
   "mimetype": "text/x-python",
   "name": "python",
   "nbconvert_exporter": "python",
   "pygments_lexer": "ipython3",
   "version": "3.7.9"
  }
 },
 "nbformat": 4,
 "nbformat_minor": 4
}
