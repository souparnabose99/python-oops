{
 "cells": [
  {
   "cell_type": "markdown",
   "metadata": {},
   "source": [
    "# Single Inheritance"
   ]
  },
  {
   "cell_type": "code",
   "execution_count": 1,
   "metadata": {},
   "outputs": [],
   "source": [
    "class Apple:\n",
    "    \n",
    "    manufacturer = \"Apple Inc.\"\n",
    "    contactWebsite = 'www.apple.com'\n",
    "    \n",
    "    def contactDetails(self):\n",
    "        print('To contact, please visit ',self.contactWebsite)\n",
    "   \n",
    "#Apple is the base class and Macbook is the derived class\n",
    "class Macbook(Apple):\n",
    "    \n",
    "    def __init__(self):\n",
    "        self.yearOfManufacture = 2017\n",
    "        \n",
    "    def manufacturingDetails(self):\n",
    "        print('This was manufactured by {} in the year {}'.format(self.manufacturer,self.yearOfManufacture))"
   ]
  },
  {
   "cell_type": "code",
   "execution_count": 2,
   "metadata": {},
   "outputs": [],
   "source": [
    "macbook = Macbook()"
   ]
  },
  {
   "cell_type": "code",
   "execution_count": 3,
   "metadata": {},
   "outputs": [
    {
     "name": "stdout",
     "output_type": "stream",
     "text": [
      "This was manufactured by Apple Inc. in the year 2017\n"
     ]
    }
   ],
   "source": [
    "macbook.manufacturingDetails()"
   ]
  },
  {
   "cell_type": "code",
   "execution_count": 4,
   "metadata": {},
   "outputs": [
    {
     "name": "stdout",
     "output_type": "stream",
     "text": [
      "To contact, please visit  www.apple.com\n"
     ]
    }
   ],
   "source": [
    "macbook.contactDetails()"
   ]
  },
  {
   "cell_type": "markdown",
   "metadata": {},
   "source": [
    "# Multiple Inheritance"
   ]
  },
  {
   "cell_type": "code",
   "execution_count": 6,
   "metadata": {},
   "outputs": [],
   "source": [
    "class OperatingSystem:\n",
    "    \n",
    "    multitasking = True\n",
    "    name = 'Mac Os'\n",
    "    \n",
    "class Apple:\n",
    "    \n",
    "    manufacturer = 'Apple Inc'\n",
    "    name = 'Apple'\n",
    "    \n",
    "class Macbook(OperatingSystem,Apple):\n",
    "    \n",
    "    def __init__(self):\n",
    "        \n",
    "        if self.multitasking is True:\n",
    "            print('This is manufactured by {}'.format(self.manufacturer))\n",
    "            print('Name is : ',self.name)\n",
    "    \n",
    "    "
   ]
  },
  {
   "cell_type": "code",
   "execution_count": 7,
   "metadata": {},
   "outputs": [
    {
     "name": "stdout",
     "output_type": "stream",
     "text": [
      "This is manufactured by Apple Inc\n",
      "Name is :  Mac Os\n"
     ]
    }
   ],
   "source": [
    "macbook = Macbook()"
   ]
  },
  {
   "cell_type": "code",
   "execution_count": 8,
   "metadata": {},
   "outputs": [],
   "source": [
    "class OperatingSystem:\n",
    "    \n",
    "    multitasking = True\n",
    "    name = 'Mac Os'\n",
    "    \n",
    "class Apple:\n",
    "    \n",
    "    manufacturer = 'Apple Inc'\n",
    "    name = 'Apple'\n",
    "    \n",
    "class Macbook(Apple,OperatingSystem):\n",
    "    \n",
    "    def __init__(self):\n",
    "        \n",
    "        if self.multitasking is True:\n",
    "            print('This is manufactured by {}'.format(self.manufacturer))\n",
    "            print('Name is : ',self.name)"
   ]
  },
  {
   "cell_type": "code",
   "execution_count": 9,
   "metadata": {},
   "outputs": [
    {
     "name": "stdout",
     "output_type": "stream",
     "text": [
      "This is manufactured by Apple Inc\n",
      "Name is :  Apple\n"
     ]
    }
   ],
   "source": [
    "mac = Macbook()"
   ]
  },
  {
   "cell_type": "code",
   "execution_count": 10,
   "metadata": {},
   "outputs": [],
   "source": [
    "#When a conflict comes with respect to attribute being same, the order depends on the order of inheritance"
   ]
  },
  {
   "cell_type": "markdown",
   "metadata": {},
   "source": [
    "# Multi-Level Inheritance"
   ]
  },
  {
   "cell_type": "code",
   "execution_count": 12,
   "metadata": {},
   "outputs": [],
   "source": [
    "class MusicalInstruments:\n",
    "    noOfMajorKeys = 12\n",
    "    \n",
    "class StringInstruments(MusicalInstruments):\n",
    "    typeOfWood = 'Teakwood'\n",
    "    \n",
    "class Guitar(StringInstruments):\n",
    "    \n",
    "    def __init__(self):\n",
    "        self.noOfStrings = 6\n",
    "        \n",
    "        print('This instrument has {} keys and the wood is {} and no of strings in {}'.format(self.noOfMajorKeys,self.typeOfWood,self.noOfStrings))"
   ]
  },
  {
   "cell_type": "code",
   "execution_count": 13,
   "metadata": {},
   "outputs": [
    {
     "name": "stdout",
     "output_type": "stream",
     "text": [
      "This instrument has 12 keys and the wood is Teakwood and no of strings in 6\n"
     ]
    }
   ],
   "source": [
    "music = Guitar()"
   ]
  },
  {
   "cell_type": "code",
   "execution_count": 14,
   "metadata": {},
   "outputs": [],
   "source": [
    "#Public access specifier can be accessed by base class and all other derived classes, as well as outside derived class as well\n",
    "#Protected access specifier can be accessed by base class and all other derived classes\n",
    "#Private access specifier can be accessed only by your class and not derived classes"
   ]
  },
  {
   "cell_type": "code",
   "execution_count": 15,
   "metadata": {},
   "outputs": [],
   "source": [
    "#Python access specifier conventions:\n",
    "#Public -> memberName\n",
    "#Protected -> _memberName\n",
    "#Private -> __memberName"
   ]
  },
  {
   "cell_type": "code",
   "execution_count": 20,
   "metadata": {},
   "outputs": [],
   "source": [
    "class Car:\n",
    "    noOfWheels = 4\n",
    "    _color = 'Black'\n",
    "    __yearOfManufacture = 2017\n",
    "    \n",
    "class BMW(Car):\n",
    "    \n",
    "    def __init__(self):\n",
    "        \n",
    "        print('The no of wheels is {} and the color is {}'.format(self.noOfWheels,self._color))\n",
    "        print('Year of manufacture is : ', self._Car__yearOfManufacture)\n",
    "        #print('Year of manufacture is : ', self.__yearOfManufacture)\n",
    "        #AttributeError: 'BMW' object has no attribute '_BMW__yearOfManufacture'\n",
    "        "
   ]
  },
  {
   "cell_type": "code",
   "execution_count": 21,
   "metadata": {},
   "outputs": [
    {
     "name": "stdout",
     "output_type": "stream",
     "text": [
      "The no of wheels is 4 and the color is Black\n",
      "Year of manufacture is :  2017\n"
     ]
    }
   ],
   "source": [
    "bm = BMW()"
   ]
  },
  {
   "cell_type": "code",
   "execution_count": 22,
   "metadata": {},
   "outputs": [],
   "source": [
    "#Name Mangling on private members:\n",
    "#__varibaleName->_ClassNAme__variableName"
   ]
  },
  {
   "cell_type": "code",
   "execution_count": null,
   "metadata": {},
   "outputs": [],
   "source": []
  }
 ],
 "metadata": {
  "kernelspec": {
   "display_name": "Python 3",
   "language": "python",
   "name": "python3"
  },
  "language_info": {
   "codemirror_mode": {
    "name": "ipython",
    "version": 3
   },
   "file_extension": ".py",
   "mimetype": "text/x-python",
   "name": "python",
   "nbconvert_exporter": "python",
   "pygments_lexer": "ipython3",
   "version": "3.7.9"
  }
 },
 "nbformat": 4,
 "nbformat_minor": 4
}
