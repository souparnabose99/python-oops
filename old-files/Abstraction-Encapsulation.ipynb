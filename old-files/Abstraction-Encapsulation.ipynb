{
 "cells": [
  {
   "cell_type": "code",
   "execution_count": 13,
   "metadata": {},
   "outputs": [],
   "source": [
    "class Library:\n",
    "    \n",
    "    def __init__(self, listOfBooks):\n",
    "        self.availableBooks = listOfBooks\n",
    "    \n",
    "    def displayAvailableBooks(self):\n",
    "        print()\n",
    "        print('Available Books: ')\n",
    "        for book in self.availableBooks:\n",
    "            print(book)\n",
    "    \n",
    "    def lendBooks(self, requestedBooks):\n",
    "        if requestedBooks in self.availableBooks:\n",
    "            print('You have now borrowed the book')\n",
    "            self.availableBooks.remove(requestedBooks)\n",
    "        else:\n",
    "            print('Sorry, the book is not available')\n",
    "    \n",
    "    def addBook(self, returnedBook):\n",
    "        self.availableBooks.append(returnedBook)\n",
    "        print('Thanks for returning the book!')\n",
    "    \n",
    "    \n",
    "class Customer:\n",
    "    \n",
    "    def requestBook(self):\n",
    "        print('Enter name of book you wouldlike to borrow: ')\n",
    "        self.book = input()\n",
    "        return self.book\n",
    "    \n",
    "    def returnBook(self):\n",
    "        print('Enter the name of book to return')\n",
    "        self.book = input()\n",
    "        return self.book\n",
    "    "
   ]
  },
  {
   "cell_type": "code",
   "execution_count": 17,
   "metadata": {},
   "outputs": [
    {
     "name": "stdout",
     "output_type": "stream",
     "text": [
      "Enter 1 to display book\n",
      "Enter 2 to borrow book\n",
      "Enter 3 to return book\n",
      "Enter 4 to exit\n",
      "2\n",
      "Enter name of book you wouldlike to borrow: \n",
      "legends\n",
      "You have now borrowed the book\n"
     ]
    }
   ],
   "source": [
    "library = Library(['legends','never','die'])\n",
    "customer = Customer()\n",
    "print('Enter 1 to display book')\n",
    "print('Enter 2 to borrow book')\n",
    "print('Enter 3 to return book')\n",
    "print('Enter 4 to exit')\n",
    "\n",
    "user_choice = int(input())\n",
    "\n",
    "if user_choice is 1:\n",
    "    library.displayAvailableBooks()\n",
    "elif user_choice is 2:\n",
    "    requestedBook = customer.requestBook()\n",
    "    library.lendBooks(requestedBook)\n",
    "elif user_choice is 3:\n",
    "    returnedBook = customer.returnBook()\n",
    "    library.addBook(returnedBook)\n",
    "else:\n",
    "    quit()\n",
    "    "
   ]
  },
  {
   "cell_type": "code",
   "execution_count": null,
   "metadata": {},
   "outputs": [],
   "source": []
  }
 ],
 "metadata": {
  "kernelspec": {
   "display_name": "Python 3",
   "language": "python",
   "name": "python3"
  },
  "language_info": {
   "codemirror_mode": {
    "name": "ipython",
    "version": 3
   },
   "file_extension": ".py",
   "mimetype": "text/x-python",
   "name": "python",
   "nbconvert_exporter": "python",
   "pygments_lexer": "ipython3",
   "version": "3.7.9"
  }
 },
 "nbformat": 4,
 "nbformat_minor": 4
}
